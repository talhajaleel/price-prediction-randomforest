{
 "cells": [
  {
   "cell_type": "code",
   "execution_count": 1,
   "id": "eea4b678",
   "metadata": {
    "execution": {
     "iopub.execute_input": "2023-01-16T10:29:51.256567Z",
     "iopub.status.busy": "2023-01-16T10:29:51.256094Z",
     "iopub.status.idle": "2023-01-16T10:29:52.847394Z",
     "shell.execute_reply": "2023-01-16T10:29:52.846346Z"
    },
    "papermill": {
     "duration": 1.608823,
     "end_time": "2023-01-16T10:29:52.850357",
     "exception": false,
     "start_time": "2023-01-16T10:29:51.241534",
     "status": "completed"
    },
    "tags": []
   },
   "outputs": [],
   "source": [
    "import copy\n",
    "\n",
    "import pandas as pd\n",
    "import numpy as np\n",
    "from sklearn.ensemble import RandomForestRegressor"
   ]
  },
  {
   "cell_type": "code",
   "execution_count": 2,
   "id": "77275ff8",
   "metadata": {
    "execution": {
     "iopub.execute_input": "2023-01-16T10:29:52.869281Z",
     "iopub.status.busy": "2023-01-16T10:29:52.868038Z",
     "iopub.status.idle": "2023-01-16T10:29:52.910733Z",
     "shell.execute_reply": "2023-01-16T10:29:52.909074Z"
    },
    "papermill": {
     "duration": 0.054848,
     "end_time": "2023-01-16T10:29:52.913366",
     "exception": false,
     "start_time": "2023-01-16T10:29:52.858518",
     "status": "completed"
    },
    "tags": []
   },
   "outputs": [],
   "source": [
    "data = pd.read_csv('../input/laptop-price/laptop_price.csv', encoding = 'latin-1')"
   ]
  },
  {
   "cell_type": "markdown",
   "id": "7a4b75fb",
   "metadata": {
    "papermill": {
     "duration": 0.013528,
     "end_time": "2023-01-16T10:29:52.939092",
     "exception": false,
     "start_time": "2023-01-16T10:29:52.925564",
     "status": "completed"
    },
    "tags": []
   },
   "source": [
    "loading the dataset into a dataframe"
   ]
  },
  {
   "cell_type": "code",
   "execution_count": 3,
   "id": "c14f2866",
   "metadata": {
    "execution": {
     "iopub.execute_input": "2023-01-16T10:29:52.961881Z",
     "iopub.status.busy": "2023-01-16T10:29:52.960748Z",
     "iopub.status.idle": "2023-01-16T10:29:52.996996Z",
     "shell.execute_reply": "2023-01-16T10:29:52.995900Z"
    },
    "papermill": {
     "duration": 0.049566,
     "end_time": "2023-01-16T10:29:52.999450",
     "exception": false,
     "start_time": "2023-01-16T10:29:52.949884",
     "status": "completed"
    },
    "tags": []
   },
   "outputs": [
    {
     "data": {
      "text/html": [
       "<div>\n",
       "<style scoped>\n",
       "    .dataframe tbody tr th:only-of-type {\n",
       "        vertical-align: middle;\n",
       "    }\n",
       "\n",
       "    .dataframe tbody tr th {\n",
       "        vertical-align: top;\n",
       "    }\n",
       "\n",
       "    .dataframe thead th {\n",
       "        text-align: right;\n",
       "    }\n",
       "</style>\n",
       "<table border=\"1\" class=\"dataframe\">\n",
       "  <thead>\n",
       "    <tr style=\"text-align: right;\">\n",
       "      <th></th>\n",
       "      <th>laptop_ID</th>\n",
       "      <th>Company</th>\n",
       "      <th>Product</th>\n",
       "      <th>TypeName</th>\n",
       "      <th>Inches</th>\n",
       "      <th>ScreenResolution</th>\n",
       "      <th>Cpu</th>\n",
       "      <th>Ram</th>\n",
       "      <th>Memory</th>\n",
       "      <th>Gpu</th>\n",
       "      <th>OpSys</th>\n",
       "      <th>Weight</th>\n",
       "      <th>Price_euros</th>\n",
       "    </tr>\n",
       "  </thead>\n",
       "  <tbody>\n",
       "    <tr>\n",
       "      <th>0</th>\n",
       "      <td>1</td>\n",
       "      <td>Apple</td>\n",
       "      <td>MacBook Pro</td>\n",
       "      <td>Ultrabook</td>\n",
       "      <td>13.3</td>\n",
       "      <td>IPS Panel Retina Display 2560x1600</td>\n",
       "      <td>Intel Core i5 2.3GHz</td>\n",
       "      <td>8GB</td>\n",
       "      <td>128GB SSD</td>\n",
       "      <td>Intel Iris Plus Graphics 640</td>\n",
       "      <td>macOS</td>\n",
       "      <td>1.37kg</td>\n",
       "      <td>1339.69</td>\n",
       "    </tr>\n",
       "    <tr>\n",
       "      <th>1</th>\n",
       "      <td>2</td>\n",
       "      <td>Apple</td>\n",
       "      <td>Macbook Air</td>\n",
       "      <td>Ultrabook</td>\n",
       "      <td>13.3</td>\n",
       "      <td>1440x900</td>\n",
       "      <td>Intel Core i5 1.8GHz</td>\n",
       "      <td>8GB</td>\n",
       "      <td>128GB Flash Storage</td>\n",
       "      <td>Intel HD Graphics 6000</td>\n",
       "      <td>macOS</td>\n",
       "      <td>1.34kg</td>\n",
       "      <td>898.94</td>\n",
       "    </tr>\n",
       "    <tr>\n",
       "      <th>2</th>\n",
       "      <td>3</td>\n",
       "      <td>HP</td>\n",
       "      <td>250 G6</td>\n",
       "      <td>Notebook</td>\n",
       "      <td>15.6</td>\n",
       "      <td>Full HD 1920x1080</td>\n",
       "      <td>Intel Core i5 7200U 2.5GHz</td>\n",
       "      <td>8GB</td>\n",
       "      <td>256GB SSD</td>\n",
       "      <td>Intel HD Graphics 620</td>\n",
       "      <td>No OS</td>\n",
       "      <td>1.86kg</td>\n",
       "      <td>575.00</td>\n",
       "    </tr>\n",
       "    <tr>\n",
       "      <th>3</th>\n",
       "      <td>4</td>\n",
       "      <td>Apple</td>\n",
       "      <td>MacBook Pro</td>\n",
       "      <td>Ultrabook</td>\n",
       "      <td>15.4</td>\n",
       "      <td>IPS Panel Retina Display 2880x1800</td>\n",
       "      <td>Intel Core i7 2.7GHz</td>\n",
       "      <td>16GB</td>\n",
       "      <td>512GB SSD</td>\n",
       "      <td>AMD Radeon Pro 455</td>\n",
       "      <td>macOS</td>\n",
       "      <td>1.83kg</td>\n",
       "      <td>2537.45</td>\n",
       "    </tr>\n",
       "    <tr>\n",
       "      <th>4</th>\n",
       "      <td>5</td>\n",
       "      <td>Apple</td>\n",
       "      <td>MacBook Pro</td>\n",
       "      <td>Ultrabook</td>\n",
       "      <td>13.3</td>\n",
       "      <td>IPS Panel Retina Display 2560x1600</td>\n",
       "      <td>Intel Core i5 3.1GHz</td>\n",
       "      <td>8GB</td>\n",
       "      <td>256GB SSD</td>\n",
       "      <td>Intel Iris Plus Graphics 650</td>\n",
       "      <td>macOS</td>\n",
       "      <td>1.37kg</td>\n",
       "      <td>1803.60</td>\n",
       "    </tr>\n",
       "  </tbody>\n",
       "</table>\n",
       "</div>"
      ],
      "text/plain": [
       "   laptop_ID Company      Product   TypeName  Inches  \\\n",
       "0          1   Apple  MacBook Pro  Ultrabook    13.3   \n",
       "1          2   Apple  Macbook Air  Ultrabook    13.3   \n",
       "2          3      HP       250 G6   Notebook    15.6   \n",
       "3          4   Apple  MacBook Pro  Ultrabook    15.4   \n",
       "4          5   Apple  MacBook Pro  Ultrabook    13.3   \n",
       "\n",
       "                     ScreenResolution                         Cpu   Ram  \\\n",
       "0  IPS Panel Retina Display 2560x1600        Intel Core i5 2.3GHz   8GB   \n",
       "1                            1440x900        Intel Core i5 1.8GHz   8GB   \n",
       "2                   Full HD 1920x1080  Intel Core i5 7200U 2.5GHz   8GB   \n",
       "3  IPS Panel Retina Display 2880x1800        Intel Core i7 2.7GHz  16GB   \n",
       "4  IPS Panel Retina Display 2560x1600        Intel Core i5 3.1GHz   8GB   \n",
       "\n",
       "                Memory                           Gpu  OpSys  Weight  \\\n",
       "0            128GB SSD  Intel Iris Plus Graphics 640  macOS  1.37kg   \n",
       "1  128GB Flash Storage        Intel HD Graphics 6000  macOS  1.34kg   \n",
       "2            256GB SSD         Intel HD Graphics 620  No OS  1.86kg   \n",
       "3            512GB SSD            AMD Radeon Pro 455  macOS  1.83kg   \n",
       "4            256GB SSD  Intel Iris Plus Graphics 650  macOS  1.37kg   \n",
       "\n",
       "   Price_euros  \n",
       "0      1339.69  \n",
       "1       898.94  \n",
       "2       575.00  \n",
       "3      2537.45  \n",
       "4      1803.60  "
      ]
     },
     "execution_count": 3,
     "metadata": {},
     "output_type": "execute_result"
    }
   ],
   "source": [
    "data.head()"
   ]
  },
  {
   "cell_type": "code",
   "execution_count": 4,
   "id": "746e90ad",
   "metadata": {
    "execution": {
     "iopub.execute_input": "2023-01-16T10:29:53.020103Z",
     "iopub.status.busy": "2023-01-16T10:29:53.019620Z",
     "iopub.status.idle": "2023-01-16T10:29:53.027344Z",
     "shell.execute_reply": "2023-01-16T10:29:53.026191Z"
    },
    "papermill": {
     "duration": 0.019807,
     "end_time": "2023-01-16T10:29:53.029655",
     "exception": false,
     "start_time": "2023-01-16T10:29:53.009848",
     "status": "completed"
    },
    "tags": []
   },
   "outputs": [
    {
     "data": {
      "text/plain": [
       "Index(['laptop_ID', 'Company', 'Product', 'TypeName', 'Inches',\n",
       "       'ScreenResolution', 'Cpu', 'Ram', 'Memory', 'Gpu', 'OpSys', 'Weight',\n",
       "       'Price_euros'],\n",
       "      dtype='object')"
      ]
     },
     "execution_count": 4,
     "metadata": {},
     "output_type": "execute_result"
    }
   ],
   "source": [
    "data.columns"
   ]
  },
  {
   "cell_type": "markdown",
   "id": "c2ec81c4",
   "metadata": {
    "papermill": {
     "duration": 0.008181,
     "end_time": "2023-01-16T10:29:53.046674",
     "exception": false,
     "start_time": "2023-01-16T10:29:53.038493",
     "status": "completed"
    },
    "tags": []
   },
   "source": [
    "These are the columns in the dataframe. Here, Price_euros is our target variable. for training, these columns will be used:\n",
    "1. company\n",
    "2. Inches\n",
    "3. ScreenResolution\n",
    "4. Cpu\n",
    "5. Ram\n",
    "6. Memory\n",
    "7. Gpu\n",
    "8. Opsys\n",
    "9. Weight\n",
    "\n",
    "Moreover, we will be using one hot encoding technique for transforming the textual data into numerical data, so we can feed it into our RandomForestRegressor. In following steps, encodings will be generated of the above mentioned columns."
   ]
  },
  {
   "cell_type": "code",
   "execution_count": 5,
   "id": "6224dca5",
   "metadata": {
    "execution": {
     "iopub.execute_input": "2023-01-16T10:29:53.065769Z",
     "iopub.status.busy": "2023-01-16T10:29:53.065002Z",
     "iopub.status.idle": "2023-01-16T10:29:53.078147Z",
     "shell.execute_reply": "2023-01-16T10:29:53.076661Z"
    },
    "papermill": {
     "duration": 0.025638,
     "end_time": "2023-01-16T10:29:53.080723",
     "exception": false,
     "start_time": "2023-01-16T10:29:53.055085",
     "status": "completed"
    },
    "tags": []
   },
   "outputs": [
    {
     "name": "stdout",
     "output_type": "stream",
     "text": [
      "{'Apple': 0, 'HP': 1, 'Acer': 2, 'Asus': 3, 'Dell': 4, 'Lenovo': 5, 'Chuwi': 6, 'MSI': 7, 'Microsoft': 8, 'Toshiba': 9, 'Huawei': 10, 'Xiaomi': 11, 'Vero': 12, 'Razer': 13, 'Mediacom': 14, 'Samsung': 15, 'Google': 16, 'Fujitsu': 17, 'LG': 18}\n"
     ]
    }
   ],
   "source": [
    "laptops = list(data.Company.unique())\n",
    "laptop_ids = dict(zip(laptops,[i for i in range(len((laptops)))]))\n",
    "print(laptop_ids)"
   ]
  },
  {
   "cell_type": "code",
   "execution_count": 6,
   "id": "9d67c270",
   "metadata": {
    "execution": {
     "iopub.execute_input": "2023-01-16T10:29:53.100154Z",
     "iopub.status.busy": "2023-01-16T10:29:53.099021Z",
     "iopub.status.idle": "2023-01-16T10:29:53.106440Z",
     "shell.execute_reply": "2023-01-16T10:29:53.105117Z"
    },
    "papermill": {
     "duration": 0.020567,
     "end_time": "2023-01-16T10:29:53.109828",
     "exception": false,
     "start_time": "2023-01-16T10:29:53.089261",
     "status": "completed"
    },
    "tags": []
   },
   "outputs": [
    {
     "name": "stdout",
     "output_type": "stream",
     "text": [
      "{13.3: 0, 15.6: 1, 15.4: 2, 14.0: 3, 12.0: 4, 11.6: 5, 17.3: 6, 10.1: 7, 13.5: 8, 12.5: 9, 13.0: 10, 18.4: 11, 13.9: 12, 12.3: 13, 17.0: 14, 15.0: 15, 14.1: 16, 11.3: 17}\n"
     ]
    }
   ],
   "source": [
    "Inches = list(data.Inches.unique())\n",
    "Inches_ids = dict(zip(Inches,[i for i in range(len((Inches)))]))\n",
    "print(Inches_ids)"
   ]
  },
  {
   "cell_type": "code",
   "execution_count": 7,
   "id": "c81a172d",
   "metadata": {
    "execution": {
     "iopub.execute_input": "2023-01-16T10:29:53.130618Z",
     "iopub.status.busy": "2023-01-16T10:29:53.129541Z",
     "iopub.status.idle": "2023-01-16T10:29:53.136988Z",
     "shell.execute_reply": "2023-01-16T10:29:53.135806Z"
    },
    "papermill": {
     "duration": 0.020534,
     "end_time": "2023-01-16T10:29:53.139537",
     "exception": false,
     "start_time": "2023-01-16T10:29:53.119003",
     "status": "completed"
    },
    "tags": []
   },
   "outputs": [
    {
     "name": "stdout",
     "output_type": "stream",
     "text": [
      "{'IPS Panel Retina Display 2560x1600': 0, '1440x900': 1, 'Full HD 1920x1080': 2, 'IPS Panel Retina Display 2880x1800': 3, '1366x768': 4, 'IPS Panel Full HD 1920x1080': 5, 'IPS Panel Retina Display 2304x1440': 6, 'IPS Panel Full HD / Touchscreen 1920x1080': 7, 'Full HD / Touchscreen 1920x1080': 8, 'Touchscreen / Quad HD+ 3200x1800': 9, 'IPS Panel Touchscreen 1920x1200': 10, 'Touchscreen 2256x1504': 11, 'Quad HD+ / Touchscreen 3200x1800': 12, 'IPS Panel 1366x768': 13, 'IPS Panel 4K Ultra HD / Touchscreen 3840x2160': 14, 'IPS Panel Full HD 2160x1440': 15, '4K Ultra HD / Touchscreen 3840x2160': 16, 'Touchscreen 2560x1440': 17, '1600x900': 18, 'IPS Panel 4K Ultra HD 3840x2160': 19, '4K Ultra HD 3840x2160': 20, 'Touchscreen 1366x768': 21, 'IPS Panel Full HD 1366x768': 22, 'IPS Panel 2560x1440': 23, 'IPS Panel Full HD 2560x1440': 24, 'IPS Panel Retina Display 2736x1824': 25, 'Touchscreen 2400x1600': 26, '2560x1440': 27, 'IPS Panel Quad HD+ 2560x1440': 28, 'IPS Panel Quad HD+ 3200x1800': 29, 'IPS Panel Quad HD+ / Touchscreen 3200x1800': 30, 'IPS Panel Touchscreen 1366x768': 31, '1920x1080': 32, 'IPS Panel Full HD 1920x1200': 33, 'IPS Panel Touchscreen / 4K Ultra HD 3840x2160': 34, 'IPS Panel Touchscreen 2560x1440': 35, 'Touchscreen / Full HD 1920x1080': 36, 'Quad HD+ 3200x1800': 37, 'Touchscreen / 4K Ultra HD 3840x2160': 38, 'IPS Panel Touchscreen 2400x1600': 39}\n"
     ]
    }
   ],
   "source": [
    "screen_resolution = data.ScreenResolution.unique()\n",
    "resolution_ids = dict(zip(screen_resolution,[i for i in range(len((screen_resolution)))]))\n",
    "print(resolution_ids)"
   ]
  },
  {
   "cell_type": "code",
   "execution_count": 8,
   "id": "fb16abd8",
   "metadata": {
    "execution": {
     "iopub.execute_input": "2023-01-16T10:29:53.160257Z",
     "iopub.status.busy": "2023-01-16T10:29:53.159847Z",
     "iopub.status.idle": "2023-01-16T10:29:53.167432Z",
     "shell.execute_reply": "2023-01-16T10:29:53.166522Z"
    },
    "papermill": {
     "duration": 0.02059,
     "end_time": "2023-01-16T10:29:53.169791",
     "exception": false,
     "start_time": "2023-01-16T10:29:53.149201",
     "status": "completed"
    },
    "tags": []
   },
   "outputs": [
    {
     "name": "stdout",
     "output_type": "stream",
     "text": [
      "{'Intel Core i5 2.3GHz': 0, 'Intel Core i5 1.8GHz': 1, 'Intel Core i5 7200U 2.5GHz': 2, 'Intel Core i7 2.7GHz': 3, 'Intel Core i5 3.1GHz': 4, 'AMD A9-Series 9420 3GHz': 5, 'Intel Core i7 2.2GHz': 6, 'Intel Core i7 8550U 1.8GHz': 7, 'Intel Core i5 8250U 1.6GHz': 8, 'Intel Core i3 6006U 2GHz': 9, 'Intel Core i7 2.8GHz': 10, 'Intel Core M m3 1.2GHz': 11, 'Intel Core i7 7500U 2.7GHz': 12, 'Intel Core i7 2.9GHz': 13, 'Intel Core i3 7100U 2.4GHz': 14, 'Intel Atom x5-Z8350 1.44GHz': 15, 'Intel Core i5 7300HQ 2.5GHz': 16, 'AMD E-Series E2-9000e 1.5GHz': 17, 'Intel Core i5 1.6GHz': 18, 'Intel Core i7 8650U 1.9GHz': 19, 'Intel Atom x5-Z8300 1.44GHz': 20, 'AMD E-Series E2-6110 1.5GHz': 21, 'AMD A6-Series 9220 2.5GHz': 22, 'Intel Celeron Dual Core N3350 1.1GHz': 23, 'Intel Core i3 7130U 2.7GHz': 24, 'Intel Core i7 7700HQ 2.8GHz': 25, 'Intel Core i5 2.0GHz': 26, 'AMD Ryzen 1700 3GHz': 27, 'Intel Pentium Quad Core N4200 1.1GHz': 28, 'Intel Atom x5-Z8550 1.44GHz': 29, 'Intel Celeron Dual Core N3060 1.6GHz': 30, 'Intel Core i5 1.3GHz': 31, 'AMD FX 9830P 3GHz': 32, 'Intel Core i7 7560U 2.4GHz': 33, 'AMD E-Series 6110 1.5GHz': 34, 'Intel Core i5 6200U 2.3GHz': 35, 'Intel Core M 6Y75 1.2GHz': 36, 'Intel Core i5 7500U 2.7GHz': 37, 'Intel Core i3 6006U 2.2GHz': 38, 'AMD A6-Series 9220 2.9GHz': 39, 'Intel Core i7 6920HQ 2.9GHz': 40, 'Intel Core i5 7Y54 1.2GHz': 41, 'Intel Core i7 7820HK 2.9GHz': 42, 'Intel Xeon E3-1505M V6 3GHz': 43, 'Intel Core i7 6500U 2.5GHz': 44, 'AMD E-Series 9000e 1.5GHz': 45, 'AMD A10-Series A10-9620P 2.5GHz': 46, 'AMD A6-Series A6-9220 2.5GHz': 47, 'Intel Core i5 2.9GHz': 48, 'Intel Core i7 6600U 2.6GHz': 49, 'Intel Core i3 6006U 2.0GHz': 50, 'Intel Celeron Dual Core 3205U 1.5GHz': 51, 'Intel Core i7 7820HQ 2.9GHz': 52, 'AMD A10-Series 9600P 2.4GHz': 53, 'Intel Core i7 7600U 2.8GHz': 54, 'AMD A8-Series 7410 2.2GHz': 55, 'Intel Celeron Dual Core 3855U 1.6GHz': 56, 'Intel Pentium Quad Core N3710 1.6GHz': 57, 'AMD A12-Series 9720P 2.7GHz': 58, 'Intel Core i5 7300U 2.6GHz': 59, 'AMD A12-Series 9720P 3.6GHz': 60, 'Intel Celeron Quad Core N3450 1.1GHz': 61, 'Intel Celeron Dual Core N3060 1.60GHz': 62, 'Intel Core i5 6440HQ 2.6GHz': 63, 'Intel Core i7 6820HQ 2.7GHz': 64, 'AMD Ryzen 1600 3.2GHz': 65, 'Intel Core i7 7Y75 1.3GHz': 66, 'Intel Core i5 7440HQ 2.8GHz': 67, 'Intel Core i7 7660U 2.5GHz': 68, 'Intel Core i7 7700HQ 2.7GHz': 69, 'Intel Core M m3-7Y30 2.2GHz': 70, 'Intel Core i5 7Y57 1.2GHz': 71, 'Intel Core i7 6700HQ 2.6GHz': 72, 'Intel Core i3 6100U 2.3GHz': 73, 'AMD A10-Series 9620P 2.5GHz': 74, 'AMD E-Series 7110 1.8GHz': 75, 'Intel Celeron Dual Core N3350 2.0GHz': 76, 'AMD A9-Series A9-9420 3GHz': 77, 'Intel Core i7 6820HK 2.7GHz': 78, 'Intel Core M 7Y30 1.0GHz': 79, 'Intel Xeon E3-1535M v6 3.1GHz': 80, 'Intel Celeron Quad Core N3160 1.6GHz': 81, 'Intel Core i5 6300U 2.4GHz': 82, 'Intel Core i3 6100U 2.1GHz': 83, 'AMD E-Series E2-9000 2.2GHz': 84, 'Intel Celeron Dual Core N3050 1.6GHz': 85, 'Intel Core M M3-6Y30 0.9GHz': 86, 'AMD A9-Series 9420 2.9GHz': 87, 'Intel Core i5 6300HQ 2.3GHz': 88, 'AMD A6-Series 7310 2GHz': 89, 'Intel Atom Z8350 1.92GHz': 90, 'Intel Xeon E3-1535M v5 2.9GHz': 91, 'Intel Core i5 6260U 1.8GHz': 92, 'Intel Pentium Dual Core N4200 1.1GHz': 93, 'Intel Celeron Quad Core N3710 1.6GHz': 94, 'Intel Core M 1.2GHz': 95, 'AMD A12-Series 9700P 2.5GHz': 96, 'Intel Core i7 7500U 2.5GHz': 97, 'Intel Pentium Dual Core 4405U 2.1GHz': 98, 'AMD A4-Series 7210 2.2GHz': 99, 'Intel Core i7 6560U 2.2GHz': 100, 'Intel Core M m7-6Y75 1.2GHz': 101, 'AMD FX 8800P 2.1GHz': 102, 'Intel Core M M7-6Y75 1.2GHz': 103, 'Intel Core i5 7200U 2.50GHz': 104, 'Intel Core i5 7200U 2.70GHz': 105, 'Intel Atom X5-Z8350 1.44GHz': 106, 'Intel Core i5 7200U 2.7GHz': 107, 'Intel Core M 1.1GHz': 108, 'Intel Pentium Dual Core 4405Y 1.5GHz': 109, 'Intel Pentium Quad Core N3700 1.6GHz': 110, 'Intel Core M 6Y54 1.1GHz': 111, 'Intel Core i7 6500U 2.50GHz': 112, 'Intel Celeron Dual Core N3350 2GHz': 113, 'Samsung Cortex A72&A53 2.0GHz': 114, 'AMD E-Series 9000 2.2GHz': 115, 'Intel Core M 6Y30 0.9GHz': 116, 'AMD A9-Series 9410 2.9GHz': 117}\n"
     ]
    }
   ],
   "source": [
    "cpu = data.Cpu.unique()\n",
    "cpu_ids = dict(zip(cpu,[i for i in range(len((cpu)))]))\n",
    "print(cpu_ids)"
   ]
  },
  {
   "cell_type": "code",
   "execution_count": 9,
   "id": "7eedbd13",
   "metadata": {
    "execution": {
     "iopub.execute_input": "2023-01-16T10:29:53.189764Z",
     "iopub.status.busy": "2023-01-16T10:29:53.188992Z",
     "iopub.status.idle": "2023-01-16T10:29:53.196412Z",
     "shell.execute_reply": "2023-01-16T10:29:53.194788Z"
    },
    "papermill": {
     "duration": 0.019934,
     "end_time": "2023-01-16T10:29:53.198777",
     "exception": false,
     "start_time": "2023-01-16T10:29:53.178843",
     "status": "completed"
    },
    "tags": []
   },
   "outputs": [
    {
     "name": "stdout",
     "output_type": "stream",
     "text": [
      "{'8GB': 0, '16GB': 1, '4GB': 2, '2GB': 3, '12GB': 4, '6GB': 5, '32GB': 6, '24GB': 7, '64GB': 8}\n"
     ]
    }
   ],
   "source": [
    "ram = data.Ram.unique()\n",
    "ram_ids = dict(zip(ram,[i for i in range(len((ram)))]))\n",
    "print(ram_ids)"
   ]
  },
  {
   "cell_type": "code",
   "execution_count": 10,
   "id": "70fa2edc",
   "metadata": {
    "execution": {
     "iopub.execute_input": "2023-01-16T10:29:53.218734Z",
     "iopub.status.busy": "2023-01-16T10:29:53.217864Z",
     "iopub.status.idle": "2023-01-16T10:29:53.226120Z",
     "shell.execute_reply": "2023-01-16T10:29:53.224669Z"
    },
    "papermill": {
     "duration": 0.021797,
     "end_time": "2023-01-16T10:29:53.229294",
     "exception": false,
     "start_time": "2023-01-16T10:29:53.207497",
     "status": "completed"
    },
    "tags": []
   },
   "outputs": [
    {
     "name": "stdout",
     "output_type": "stream",
     "text": [
      "{'128GB SSD': 0, '128GB Flash Storage': 1, '256GB SSD': 2, '512GB SSD': 3, '500GB HDD': 4, '256GB Flash Storage': 5, '1TB HDD': 6, '32GB Flash Storage': 7, '128GB SSD +  1TB HDD': 8, '256GB SSD +  256GB SSD': 9, '64GB Flash Storage': 10, '256GB SSD +  1TB HDD': 11, '256GB SSD +  2TB HDD': 12, '32GB SSD': 13, '2TB HDD': 14, '64GB SSD': 15, '1.0TB Hybrid': 16, '512GB SSD +  1TB HDD': 17, '1TB SSD': 18, '256GB SSD +  500GB HDD': 19, '128GB SSD +  2TB HDD': 20, '512GB SSD +  512GB SSD': 21, '16GB SSD': 22, '16GB Flash Storage': 23, '512GB SSD +  256GB SSD': 24, '512GB SSD +  2TB HDD': 25, '64GB Flash Storage +  1TB HDD': 26, '180GB SSD': 27, '1TB HDD +  1TB HDD': 28, '32GB HDD': 29, '1TB SSD +  1TB HDD': 30, '512GB Flash Storage': 31, '128GB HDD': 32, '240GB SSD': 33, '8GB SSD': 34, '508GB Hybrid': 35, '1.0TB HDD': 36, '512GB SSD +  1.0TB Hybrid': 37, '256GB SSD +  1.0TB Hybrid': 38}\n"
     ]
    }
   ],
   "source": [
    "memory = data.Memory.unique()\n",
    "memory_ids = dict(zip(memory,[i for i in range(len((memory)))]))\n",
    "print(memory_ids)"
   ]
  },
  {
   "cell_type": "code",
   "execution_count": 11,
   "id": "aedf3280",
   "metadata": {
    "execution": {
     "iopub.execute_input": "2023-01-16T10:29:53.248946Z",
     "iopub.status.busy": "2023-01-16T10:29:53.248486Z",
     "iopub.status.idle": "2023-01-16T10:29:53.256334Z",
     "shell.execute_reply": "2023-01-16T10:29:53.254977Z"
    },
    "papermill": {
     "duration": 0.020569,
     "end_time": "2023-01-16T10:29:53.259094",
     "exception": false,
     "start_time": "2023-01-16T10:29:53.238525",
     "status": "completed"
    },
    "tags": []
   },
   "outputs": [
    {
     "name": "stdout",
     "output_type": "stream",
     "text": [
      "{'Intel Iris Plus Graphics 640': 0, 'Intel HD Graphics 6000': 1, 'Intel HD Graphics 620': 2, 'AMD Radeon Pro 455': 3, 'Intel Iris Plus Graphics 650': 4, 'AMD Radeon R5': 5, 'Intel Iris Pro Graphics': 6, 'Nvidia GeForce MX150': 7, 'Intel UHD Graphics 620': 8, 'Intel HD Graphics 520': 9, 'AMD Radeon Pro 555': 10, 'AMD Radeon R5 M430': 11, 'Intel HD Graphics 615': 12, 'AMD Radeon Pro 560': 13, 'Nvidia GeForce 940MX': 14, 'Intel HD Graphics 400': 15, 'Nvidia GeForce GTX 1050': 16, 'AMD Radeon R2': 17, 'AMD Radeon 530': 18, 'Nvidia GeForce 930MX': 19, 'Intel HD Graphics': 20, 'Intel HD Graphics 500': 21, 'Nvidia GeForce 930MX ': 22, 'Nvidia GeForce GTX 1060': 23, 'Nvidia GeForce 150MX': 24, 'Intel Iris Graphics 540': 25, 'AMD Radeon RX 580': 26, 'Nvidia GeForce 920MX': 27, 'AMD Radeon R4 Graphics': 28, 'AMD Radeon 520': 29, 'Nvidia GeForce GTX 1070': 30, 'Nvidia GeForce GTX 1050 Ti': 31, 'Nvidia GeForce MX130': 32, 'AMD R4 Graphics': 33, 'Nvidia GeForce GTX 940MX': 34, 'AMD Radeon RX 560': 35, 'Nvidia GeForce 920M': 36, 'AMD Radeon R7 M445': 37, 'AMD Radeon RX 550': 38, 'Nvidia GeForce GTX 1050M': 39, 'Intel HD Graphics 515': 40, 'AMD Radeon R5 M420': 41, 'Intel HD Graphics 505': 42, 'Nvidia GTX 980 SLI': 43, 'AMD R17M-M1-70': 44, 'Nvidia GeForce GTX 1080': 45, 'Nvidia Quadro M1200': 46, 'Nvidia GeForce 920MX ': 47, 'Nvidia GeForce GTX 950M': 48, 'AMD FirePro W4190M ': 49, 'Nvidia GeForce GTX 980M': 50, 'Intel Iris Graphics 550': 51, 'Nvidia GeForce 930M': 52, 'Intel HD Graphics 630': 53, 'AMD Radeon R5 430': 54, 'Nvidia GeForce GTX 940M': 55, 'Intel HD Graphics 510': 56, 'Intel HD Graphics 405': 57, 'AMD Radeon RX 540': 58, 'Nvidia GeForce GT 940MX': 59, 'AMD FirePro W5130M': 60, 'Nvidia Quadro M2200M': 61, 'AMD Radeon R4': 62, 'Nvidia Quadro M620': 63, 'AMD Radeon R7 M460': 64, 'Intel HD Graphics 530': 65, 'Nvidia GeForce GTX 965M': 66, 'Nvidia GeForce GTX1080': 67, 'Nvidia GeForce GTX1050 Ti': 68, 'Nvidia GeForce GTX 960M': 69, 'AMD Radeon R2 Graphics': 70, 'Nvidia Quadro M620M': 71, 'Nvidia GeForce GTX 970M': 72, 'Nvidia GeForce GTX 960<U+039C>': 73, 'Intel Graphics 620': 74, 'Nvidia GeForce GTX 960': 75, 'AMD Radeon R5 520': 76, 'AMD Radeon R7 M440': 77, 'AMD Radeon R7': 78, 'Nvidia Quadro M520M': 79, 'Nvidia Quadro M2200': 80, 'Nvidia Quadro M2000M': 81, 'Intel HD Graphics 540': 82, 'Nvidia Quadro M1000M': 83, 'AMD Radeon 540': 84, 'Nvidia GeForce GTX 1070M': 85, 'Nvidia GeForce GTX1060': 86, 'Intel HD Graphics 5300': 87, 'AMD Radeon R5 M420X': 88, 'AMD Radeon R7 Graphics': 89, 'Nvidia GeForce 920': 90, 'Nvidia GeForce 940M': 91, 'Nvidia GeForce GTX 930MX': 92, 'AMD Radeon R7 M465': 93, 'AMD Radeon R3': 94, 'Nvidia GeForce GTX 1050Ti': 95, 'AMD Radeon R7 M365X': 96, 'AMD Radeon R9 M385': 97, 'Intel HD Graphics 620 ': 98, 'Nvidia Quadro 3000M': 99, 'Nvidia GeForce GTX 980 ': 100, 'AMD Radeon R5 M330': 101, 'AMD FirePro W4190M': 102, 'AMD FirePro W6150M': 103, 'AMD Radeon R5 M315': 104, 'Nvidia Quadro M500M': 105, 'AMD Radeon R7 M360': 106, 'Nvidia Quadro M3000M': 107, 'Nvidia GeForce 960M': 108, 'ARM Mali T860 MP4': 109}\n"
     ]
    }
   ],
   "source": [
    "gpu = data.Gpu.unique()\n",
    "gpu_ids = dict(zip(gpu,[i for i in range(len((gpu)))]))\n",
    "print(gpu_ids)"
   ]
  },
  {
   "cell_type": "code",
   "execution_count": 12,
   "id": "c2c11cf0",
   "metadata": {
    "execution": {
     "iopub.execute_input": "2023-01-16T10:29:53.279218Z",
     "iopub.status.busy": "2023-01-16T10:29:53.278793Z",
     "iopub.status.idle": "2023-01-16T10:29:53.286462Z",
     "shell.execute_reply": "2023-01-16T10:29:53.285248Z"
    },
    "papermill": {
     "duration": 0.020514,
     "end_time": "2023-01-16T10:29:53.288996",
     "exception": false,
     "start_time": "2023-01-16T10:29:53.268482",
     "status": "completed"
    },
    "tags": []
   },
   "outputs": [
    {
     "name": "stdout",
     "output_type": "stream",
     "text": [
      "{'macOS': 0, 'No OS': 1, 'Windows 10': 2, 'Mac OS X': 3, 'Linux': 4, 'Android': 5, 'Windows 10 S': 6, 'Chrome OS': 7, 'Windows 7': 8}\n"
     ]
    }
   ],
   "source": [
    "opsys = data.OpSys.unique()\n",
    "opsys_ids = dict(zip(opsys,[i for i in range(len((opsys)))]))\n",
    "print(opsys_ids)"
   ]
  },
  {
   "cell_type": "code",
   "execution_count": 13,
   "id": "ebf49031",
   "metadata": {
    "execution": {
     "iopub.execute_input": "2023-01-16T10:29:53.308699Z",
     "iopub.status.busy": "2023-01-16T10:29:53.308202Z",
     "iopub.status.idle": "2023-01-16T10:29:53.315732Z",
     "shell.execute_reply": "2023-01-16T10:29:53.314923Z"
    },
    "papermill": {
     "duration": 0.020105,
     "end_time": "2023-01-16T10:29:53.318036",
     "exception": false,
     "start_time": "2023-01-16T10:29:53.297931",
     "status": "completed"
    },
    "tags": []
   },
   "outputs": [
    {
     "name": "stdout",
     "output_type": "stream",
     "text": [
      "{'1.37kg': 0, '1.34kg': 1, '1.86kg': 2, '1.83kg': 3, '2.1kg': 4, '2.04kg': 5, '1.3kg': 6, '1.6kg': 7, '2.2kg': 8, '0.92kg': 9, '1.22kg': 10, '0.98kg': 11, '2.5kg': 12, '1.62kg': 13, '1.91kg': 14, '2.3kg': 15, '1.35kg': 16, '1.88kg': 17, '1.89kg': 18, '1.65kg': 19, '2.71kg': 20, '1.2kg': 21, '1.44kg': 22, '2.8kg': 23, '2kg': 24, '2.65kg': 25, '2.77kg': 26, '3.2kg': 27, '0.69kg': 28, '1.49kg': 29, '2.4kg': 30, '2.13kg': 31, '2.43kg': 32, '1.7kg': 33, '1.4kg': 34, '1.8kg': 35, '1.9kg': 36, '3kg': 37, '1.252kg': 38, '2.7kg': 39, '2.02kg': 40, '1.63kg': 41, '1.96kg': 42, '1.21kg': 43, '2.45kg': 44, '1.25kg': 45, '1.5kg': 46, '2.62kg': 47, '1.38kg': 48, '1.58kg': 49, '1.85kg': 50, '1.23kg': 51, '1.26kg': 52, '2.16kg': 53, '2.36kg': 54, '2.05kg': 55, '1.32kg': 56, '1.75kg': 57, '0.97kg': 58, '2.9kg': 59, '2.56kg': 60, '1.48kg': 61, '1.74kg': 62, '1.1kg': 63, '1.56kg': 64, '2.03kg': 65, '1.05kg': 66, '4.4kg': 67, '1.90kg': 68, '1.29kg': 69, '2.0kg': 70, '1.95kg': 71, '2.06kg': 72, '1.12kg': 73, '1.42kg': 74, '3.49kg': 75, '3.35kg': 76, '2.23kg': 77, '4.42kg': 78, '2.69kg': 79, '2.37kg': 80, '4.7kg': 81, '3.6kg': 82, '2.08kg': 83, '4.3kg': 84, '1.68kg': 85, '1.41kg': 86, '4.14kg': 87, '2.18kg': 88, '2.24kg': 89, '2.67kg': 90, '2.14kg': 91, '1.36kg': 92, '2.25kg': 93, '2.15kg': 94, '2.19kg': 95, '2.54kg': 96, '3.42kg': 97, '1.28kg': 98, '2.33kg': 99, '1.45kg': 100, '2.79kg': 101, '1.84kg': 102, '2.6kg': 103, '2.26kg': 104, '3.25kg': 105, '1.59kg': 106, '1.13kg': 107, '1.78kg': 108, '1.10kg': 109, '1.15kg': 110, '1.27kg': 111, '1.43kg': 112, '2.31kg': 113, '1.16kg': 114, '1.64kg': 115, '2.17kg': 116, '1.47kg': 117, '3.78kg': 118, '1.79kg': 119, '0.91kg': 120, '1.99kg': 121, '4.33kg': 122, '1.93kg': 123, '1.87kg': 124, '2.63kg': 125, '3.4kg': 126, '3.14kg': 127, '1.94kg': 128, '1.24kg': 129, '4.6kg': 130, '4.5kg': 131, '2.73kg': 132, '1.39kg': 133, '2.29kg': 134, '2.59kg': 135, '2.94kg': 136, '1.14kg': 137, '3.8kg': 138, '3.31kg': 139, '1.09kg': 140, '3.21kg': 141, '1.19kg': 142, '1.98kg': 143, '1.17kg': 144, '4.36kg': 145, '1.71kg': 146, '2.32kg': 147, '4.2kg': 148, '1.55kg': 149, '0.81kg': 150, '1.18kg': 151, '2.72kg': 152, '1.31kg': 153, '0.920kg': 154, '3.74kg': 155, '1.76kg': 156, '1.54kg': 157, '2.83kg': 158, '2.07kg': 159, '2.38kg': 160, '3.58kg': 161, '1.08kg': 162, '2.20kg': 163, '2.75kg': 164, '1.70kg': 165, '2.99kg': 166, '1.11kg': 167, '2.09kg': 168, '4kg': 169, '3.0kg': 170, '0.99kg': 171, '3.52kg': 172, '2.591kg': 173, '2.21kg': 174, '3.3kg': 175, '2.191kg': 176, '2.34kg': 177, '4.0kg': 178}\n"
     ]
    }
   ],
   "source": [
    "weight = data.Weight.unique()\n",
    "weight_ids = dict(zip(weight,[i for i in range(len((weight)))]))\n",
    "print(weight_ids)"
   ]
  },
  {
   "cell_type": "code",
   "execution_count": 14,
   "id": "1e6e6144",
   "metadata": {
    "execution": {
     "iopub.execute_input": "2023-01-16T10:29:53.338429Z",
     "iopub.status.busy": "2023-01-16T10:29:53.338022Z",
     "iopub.status.idle": "2023-01-16T10:29:53.343442Z",
     "shell.execute_reply": "2023-01-16T10:29:53.342372Z"
    },
    "papermill": {
     "duration": 0.017935,
     "end_time": "2023-01-16T10:29:53.345565",
     "exception": false,
     "start_time": "2023-01-16T10:29:53.327630",
     "status": "completed"
    },
    "tags": []
   },
   "outputs": [],
   "source": [
    "x = pd.DataFrame()"
   ]
  },
  {
   "cell_type": "code",
   "execution_count": 15,
   "id": "a1894009",
   "metadata": {
    "execution": {
     "iopub.execute_input": "2023-01-16T10:29:53.366359Z",
     "iopub.status.busy": "2023-01-16T10:29:53.365937Z",
     "iopub.status.idle": "2023-01-16T10:29:53.387981Z",
     "shell.execute_reply": "2023-01-16T10:29:53.386998Z"
    },
    "papermill": {
     "duration": 0.035045,
     "end_time": "2023-01-16T10:29:53.390403",
     "exception": false,
     "start_time": "2023-01-16T10:29:53.355358",
     "status": "completed"
    },
    "tags": []
   },
   "outputs": [],
   "source": [
    "x['Company'] = data['Company'].map(laptop_ids)\n",
    "x['Inches'] = data['Inches'].map(Inches_ids)\n",
    "x['ScreenResolution'] = data['ScreenResolution'].map(resolution_ids)\n",
    "x['Cpu'] = data['Cpu'].map(cpu_ids)\n",
    "x['Ram'] = data['Ram'].map(ram_ids)\n",
    "x['Memory'] = data['Memory'].map(memory_ids)\n",
    "x['Gpu'] = data['Gpu'].map(gpu_ids)\n",
    "x['OpSys'] = data['OpSys'].map(opsys_ids)\n",
    "x['Weight'] = data['Weight'].map(weight_ids)\n",
    "x['prices'] = data['Price_euros']"
   ]
  },
  {
   "cell_type": "code",
   "execution_count": 16,
   "id": "e59aef58",
   "metadata": {
    "execution": {
     "iopub.execute_input": "2023-01-16T10:29:53.410761Z",
     "iopub.status.busy": "2023-01-16T10:29:53.409988Z",
     "iopub.status.idle": "2023-01-16T10:29:53.416231Z",
     "shell.execute_reply": "2023-01-16T10:29:53.415033Z"
    },
    "papermill": {
     "duration": 0.019693,
     "end_time": "2023-01-16T10:29:53.419117",
     "exception": false,
     "start_time": "2023-01-16T10:29:53.399424",
     "status": "completed"
    },
    "tags": []
   },
   "outputs": [],
   "source": [
    "df_new = copy.deepcopy(x)"
   ]
  },
  {
   "cell_type": "code",
   "execution_count": 17,
   "id": "79a43f09",
   "metadata": {
    "execution": {
     "iopub.execute_input": "2023-01-16T10:29:53.439494Z",
     "iopub.status.busy": "2023-01-16T10:29:53.439034Z",
     "iopub.status.idle": "2023-01-16T10:29:53.454479Z",
     "shell.execute_reply": "2023-01-16T10:29:53.453138Z"
    },
    "papermill": {
     "duration": 0.028586,
     "end_time": "2023-01-16T10:29:53.457053",
     "exception": false,
     "start_time": "2023-01-16T10:29:53.428467",
     "status": "completed"
    },
    "tags": []
   },
   "outputs": [
    {
     "data": {
      "text/html": [
       "<div>\n",
       "<style scoped>\n",
       "    .dataframe tbody tr th:only-of-type {\n",
       "        vertical-align: middle;\n",
       "    }\n",
       "\n",
       "    .dataframe tbody tr th {\n",
       "        vertical-align: top;\n",
       "    }\n",
       "\n",
       "    .dataframe thead th {\n",
       "        text-align: right;\n",
       "    }\n",
       "</style>\n",
       "<table border=\"1\" class=\"dataframe\">\n",
       "  <thead>\n",
       "    <tr style=\"text-align: right;\">\n",
       "      <th></th>\n",
       "      <th>Company</th>\n",
       "      <th>Inches</th>\n",
       "      <th>ScreenResolution</th>\n",
       "      <th>Cpu</th>\n",
       "      <th>Ram</th>\n",
       "      <th>Memory</th>\n",
       "      <th>Gpu</th>\n",
       "      <th>OpSys</th>\n",
       "      <th>Weight</th>\n",
       "      <th>prices</th>\n",
       "    </tr>\n",
       "  </thead>\n",
       "  <tbody>\n",
       "    <tr>\n",
       "      <th>0</th>\n",
       "      <td>0</td>\n",
       "      <td>0</td>\n",
       "      <td>0</td>\n",
       "      <td>0</td>\n",
       "      <td>0</td>\n",
       "      <td>0</td>\n",
       "      <td>0</td>\n",
       "      <td>0</td>\n",
       "      <td>0</td>\n",
       "      <td>1339.69</td>\n",
       "    </tr>\n",
       "    <tr>\n",
       "      <th>1</th>\n",
       "      <td>0</td>\n",
       "      <td>0</td>\n",
       "      <td>1</td>\n",
       "      <td>1</td>\n",
       "      <td>0</td>\n",
       "      <td>1</td>\n",
       "      <td>1</td>\n",
       "      <td>0</td>\n",
       "      <td>1</td>\n",
       "      <td>898.94</td>\n",
       "    </tr>\n",
       "    <tr>\n",
       "      <th>2</th>\n",
       "      <td>1</td>\n",
       "      <td>1</td>\n",
       "      <td>2</td>\n",
       "      <td>2</td>\n",
       "      <td>0</td>\n",
       "      <td>2</td>\n",
       "      <td>2</td>\n",
       "      <td>1</td>\n",
       "      <td>2</td>\n",
       "      <td>575.00</td>\n",
       "    </tr>\n",
       "    <tr>\n",
       "      <th>3</th>\n",
       "      <td>0</td>\n",
       "      <td>2</td>\n",
       "      <td>3</td>\n",
       "      <td>3</td>\n",
       "      <td>1</td>\n",
       "      <td>3</td>\n",
       "      <td>3</td>\n",
       "      <td>0</td>\n",
       "      <td>3</td>\n",
       "      <td>2537.45</td>\n",
       "    </tr>\n",
       "    <tr>\n",
       "      <th>4</th>\n",
       "      <td>0</td>\n",
       "      <td>0</td>\n",
       "      <td>0</td>\n",
       "      <td>4</td>\n",
       "      <td>0</td>\n",
       "      <td>2</td>\n",
       "      <td>4</td>\n",
       "      <td>0</td>\n",
       "      <td>0</td>\n",
       "      <td>1803.60</td>\n",
       "    </tr>\n",
       "  </tbody>\n",
       "</table>\n",
       "</div>"
      ],
      "text/plain": [
       "   Company  Inches  ScreenResolution  Cpu  Ram  Memory  Gpu  OpSys  Weight  \\\n",
       "0        0       0                 0    0    0       0    0      0       0   \n",
       "1        0       0                 1    1    0       1    1      0       1   \n",
       "2        1       1                 2    2    0       2    2      1       2   \n",
       "3        0       2                 3    3    1       3    3      0       3   \n",
       "4        0       0                 0    4    0       2    4      0       0   \n",
       "\n",
       "    prices  \n",
       "0  1339.69  \n",
       "1   898.94  \n",
       "2   575.00  \n",
       "3  2537.45  \n",
       "4  1803.60  "
      ]
     },
     "execution_count": 17,
     "metadata": {},
     "output_type": "execute_result"
    }
   ],
   "source": [
    "df_new.head()"
   ]
  },
  {
   "cell_type": "markdown",
   "id": "4075385b",
   "metadata": {
    "papermill": {
     "duration": 0.008833,
     "end_time": "2023-01-16T10:29:53.475231",
     "exception": false,
     "start_time": "2023-01-16T10:29:53.466398",
     "status": "completed"
    },
    "tags": []
   },
   "source": [
    "**One hot encoded DataFrame**"
   ]
  },
  {
   "cell_type": "code",
   "execution_count": 18,
   "id": "a7e37544",
   "metadata": {
    "execution": {
     "iopub.execute_input": "2023-01-16T10:29:53.495542Z",
     "iopub.status.busy": "2023-01-16T10:29:53.495063Z",
     "iopub.status.idle": "2023-01-16T10:29:53.505099Z",
     "shell.execute_reply": "2023-01-16T10:29:53.503879Z"
    },
    "papermill": {
     "duration": 0.023394,
     "end_time": "2023-01-16T10:29:53.507740",
     "exception": false,
     "start_time": "2023-01-16T10:29:53.484346",
     "status": "completed"
    },
    "tags": []
   },
   "outputs": [],
   "source": [
    "train, validation, test = np.split(df_new.sample(frac=1), [int(.8*len(df_new)), int(.9*len(df_new))])"
   ]
  },
  {
   "cell_type": "markdown",
   "id": "f1c4aa7b",
   "metadata": {
    "papermill": {
     "duration": 0.008847,
     "end_time": "2023-01-16T10:29:53.525825",
     "exception": false,
     "start_time": "2023-01-16T10:29:53.516978",
     "status": "completed"
    },
    "tags": []
   },
   "source": [
    "**Splitting the dataset into Test(80%), Train(10%) and validation(10%) dataset.**"
   ]
  },
  {
   "cell_type": "code",
   "execution_count": 19,
   "id": "c812d457",
   "metadata": {
    "execution": {
     "iopub.execute_input": "2023-01-16T10:29:53.546810Z",
     "iopub.status.busy": "2023-01-16T10:29:53.545605Z",
     "iopub.status.idle": "2023-01-16T10:29:53.554877Z",
     "shell.execute_reply": "2023-01-16T10:29:53.553969Z"
    },
    "papermill": {
     "duration": 0.021909,
     "end_time": "2023-01-16T10:29:53.557004",
     "exception": false,
     "start_time": "2023-01-16T10:29:53.535095",
     "status": "completed"
    },
    "tags": []
   },
   "outputs": [],
   "source": [
    "x_columns = list(train.columns[:9])\n",
    "y_columns = train.columns[9]\n",
    "\n",
    "#train dataset\n",
    "train_x = train[x_columns]\n",
    "train_y = train[y_columns]\n",
    "\n",
    "#test dataset\n",
    "test_x = test[x_columns]\n",
    "test_y = test[y_columns]\n",
    "\n",
    "#validation dataset\n",
    "validation_x = validation[x_columns]\n",
    "validation_y = validation[y_columns]"
   ]
  },
  {
   "cell_type": "code",
   "execution_count": 20,
   "id": "b68ddeff",
   "metadata": {
    "execution": {
     "iopub.execute_input": "2023-01-16T10:29:53.577355Z",
     "iopub.status.busy": "2023-01-16T10:29:53.576918Z",
     "iopub.status.idle": "2023-01-16T10:29:53.582640Z",
     "shell.execute_reply": "2023-01-16T10:29:53.581398Z"
    },
    "papermill": {
     "duration": 0.019006,
     "end_time": "2023-01-16T10:29:53.585276",
     "exception": false,
     "start_time": "2023-01-16T10:29:53.566270",
     "status": "completed"
    },
    "tags": []
   },
   "outputs": [],
   "source": [
    "regressor = RandomForestRegressor(n_estimators = 1000, random_state = 3)"
   ]
  },
  {
   "cell_type": "code",
   "execution_count": 21,
   "id": "fb6e5aed",
   "metadata": {
    "execution": {
     "iopub.execute_input": "2023-01-16T10:29:53.605726Z",
     "iopub.status.busy": "2023-01-16T10:29:53.605232Z",
     "iopub.status.idle": "2023-01-16T10:29:57.605477Z",
     "shell.execute_reply": "2023-01-16T10:29:57.604196Z"
    },
    "papermill": {
     "duration": 4.013371,
     "end_time": "2023-01-16T10:29:57.607980",
     "exception": false,
     "start_time": "2023-01-16T10:29:53.594609",
     "status": "completed"
    },
    "tags": []
   },
   "outputs": [
    {
     "data": {
      "text/plain": [
       "RandomForestRegressor(n_estimators=1000, random_state=3)"
      ]
     },
     "execution_count": 21,
     "metadata": {},
     "output_type": "execute_result"
    }
   ],
   "source": [
    "regressor.fit(train_x, train_y.values.ravel())"
   ]
  },
  {
   "cell_type": "code",
   "execution_count": 22,
   "id": "3e343960",
   "metadata": {
    "execution": {
     "iopub.execute_input": "2023-01-16T10:29:57.629007Z",
     "iopub.status.busy": "2023-01-16T10:29:57.628484Z",
     "iopub.status.idle": "2023-01-16T10:29:57.925208Z",
     "shell.execute_reply": "2023-01-16T10:29:57.923805Z"
    },
    "papermill": {
     "duration": 0.310332,
     "end_time": "2023-01-16T10:29:57.928012",
     "exception": false,
     "start_time": "2023-01-16T10:29:57.617680",
     "status": "completed"
    },
    "tags": []
   },
   "outputs": [
    {
     "data": {
      "text/plain": [
       "0.9643415397648385"
      ]
     },
     "execution_count": 22,
     "metadata": {},
     "output_type": "execute_result"
    }
   ],
   "source": [
    "regressor.score(train_x, train_y)"
   ]
  },
  {
   "cell_type": "markdown",
   "id": "98b96b0a",
   "metadata": {
    "papermill": {
     "duration": 0.009271,
     "end_time": "2023-01-16T10:29:57.947045",
     "exception": false,
     "start_time": "2023-01-16T10:29:57.937774",
     "status": "completed"
    },
    "tags": []
   },
   "source": [
    "Training accuracy"
   ]
  },
  {
   "cell_type": "code",
   "execution_count": 23,
   "id": "06bb1e25",
   "metadata": {
    "execution": {
     "iopub.execute_input": "2023-01-16T10:29:57.968093Z",
     "iopub.status.busy": "2023-01-16T10:29:57.967662Z",
     "iopub.status.idle": "2023-01-16T10:29:58.112794Z",
     "shell.execute_reply": "2023-01-16T10:29:58.111655Z"
    },
    "papermill": {
     "duration": 0.158725,
     "end_time": "2023-01-16T10:29:58.115480",
     "exception": false,
     "start_time": "2023-01-16T10:29:57.956755",
     "status": "completed"
    },
    "tags": []
   },
   "outputs": [
    {
     "data": {
      "text/plain": [
       "0.8626161112284331"
      ]
     },
     "execution_count": 23,
     "metadata": {},
     "output_type": "execute_result"
    }
   ],
   "source": [
    "regressor.score(test_x, test_y)"
   ]
  },
  {
   "cell_type": "markdown",
   "id": "6286feae",
   "metadata": {
    "papermill": {
     "duration": 0.009297,
     "end_time": "2023-01-16T10:29:58.134524",
     "exception": false,
     "start_time": "2023-01-16T10:29:58.125227",
     "status": "completed"
    },
    "tags": []
   },
   "source": [
    "Testing accuracy"
   ]
  },
  {
   "cell_type": "code",
   "execution_count": 24,
   "id": "24758266",
   "metadata": {
    "execution": {
     "iopub.execute_input": "2023-01-16T10:29:58.156534Z",
     "iopub.status.busy": "2023-01-16T10:29:58.156109Z",
     "iopub.status.idle": "2023-01-16T10:29:58.290441Z",
     "shell.execute_reply": "2023-01-16T10:29:58.289343Z"
    },
    "papermill": {
     "duration": 0.149167,
     "end_time": "2023-01-16T10:29:58.293331",
     "exception": false,
     "start_time": "2023-01-16T10:29:58.144164",
     "status": "completed"
    },
    "tags": []
   },
   "outputs": [
    {
     "data": {
      "text/plain": [
       "0.8552656066789192"
      ]
     },
     "execution_count": 24,
     "metadata": {},
     "output_type": "execute_result"
    }
   ],
   "source": [
    "regressor.score(validation_x, validation_y)"
   ]
  },
  {
   "cell_type": "markdown",
   "id": "37f432e2",
   "metadata": {
    "papermill": {
     "duration": 0.009459,
     "end_time": "2023-01-16T10:29:58.312974",
     "exception": false,
     "start_time": "2023-01-16T10:29:58.303515",
     "status": "completed"
    },
    "tags": []
   },
   "source": [
    "Validation accuracy"
   ]
  },
  {
   "cell_type": "code",
   "execution_count": 25,
   "id": "c42864d4",
   "metadata": {
    "execution": {
     "iopub.execute_input": "2023-01-16T10:29:58.337436Z",
     "iopub.status.busy": "2023-01-16T10:29:58.337010Z",
     "iopub.status.idle": "2023-01-16T10:29:58.345674Z",
     "shell.execute_reply": "2023-01-16T10:29:58.344053Z"
    },
    "papermill": {
     "duration": 0.026313,
     "end_time": "2023-01-16T10:29:58.349343",
     "exception": false,
     "start_time": "2023-01-16T10:29:58.323030",
     "status": "completed"
    },
    "tags": []
   },
   "outputs": [
    {
     "name": "stdout",
     "output_type": "stream",
     "text": [
      "[2, 3, 7, 66, 0, 2, 12, 2, 21] 1149.0\n"
     ]
    }
   ],
   "source": [
    "pred_input_x = list(validation_x.iloc[21])\n",
    "pred_input_y = validation_y.iloc[21]\n",
    "\n",
    "print(pred_input_x, pred_input_y)"
   ]
  },
  {
   "cell_type": "markdown",
   "id": "55b0cd66",
   "metadata": {
    "papermill": {
     "duration": 0.01007,
     "end_time": "2023-01-16T10:29:58.372768",
     "exception": false,
     "start_time": "2023-01-16T10:29:58.362698",
     "status": "completed"
    },
    "tags": []
   },
   "source": [
    "**Prediction using the trained Model**"
   ]
  },
  {
   "cell_type": "code",
   "execution_count": 26,
   "id": "4cb9897c",
   "metadata": {
    "execution": {
     "iopub.execute_input": "2023-01-16T10:29:58.398808Z",
     "iopub.status.busy": "2023-01-16T10:29:58.398316Z",
     "iopub.status.idle": "2023-01-16T10:29:58.406567Z",
     "shell.execute_reply": "2023-01-16T10:29:58.405373Z"
    },
    "papermill": {
     "duration": 0.023745,
     "end_time": "2023-01-16T10:29:58.409074",
     "exception": false,
     "start_time": "2023-01-16T10:29:58.385329",
     "status": "completed"
    },
    "tags": []
   },
   "outputs": [
    {
     "data": {
      "text/plain": [
       "array([[ 2,  3,  7, 66,  0,  2, 12,  2, 21]])"
      ]
     },
     "execution_count": 26,
     "metadata": {},
     "output_type": "execute_result"
    }
   ],
   "source": [
    "np.array(pred_input_x).reshape(1,9)"
   ]
  },
  {
   "cell_type": "code",
   "execution_count": 27,
   "id": "2e488ed0",
   "metadata": {
    "execution": {
     "iopub.execute_input": "2023-01-16T10:29:58.432207Z",
     "iopub.status.busy": "2023-01-16T10:29:58.431799Z",
     "iopub.status.idle": "2023-01-16T10:29:58.551332Z",
     "shell.execute_reply": "2023-01-16T10:29:58.549765Z"
    },
    "papermill": {
     "duration": 0.134413,
     "end_time": "2023-01-16T10:29:58.553970",
     "exception": false,
     "start_time": "2023-01-16T10:29:58.419557",
     "status": "completed"
    },
    "tags": []
   },
   "outputs": [
    {
     "name": "stdout",
     "output_type": "stream",
     "text": [
      "1201.439613333333\n"
     ]
    },
    {
     "name": "stderr",
     "output_type": "stream",
     "text": [
      "/opt/conda/lib/python3.7/site-packages/sklearn/base.py:451: UserWarning: X does not have valid feature names, but RandomForestRegressor was fitted with feature names\n",
      "  \"X does not have valid feature names, but\"\n"
     ]
    }
   ],
   "source": [
    "x = regressor.predict(np.array(pred_input_x).reshape(1,9))\n",
    "print(x[0])"
   ]
  },
  {
   "cell_type": "markdown",
   "id": "2586100c",
   "metadata": {
    "papermill": {
     "duration": 0.010234,
     "end_time": "2023-01-16T10:29:58.575200",
     "exception": false,
     "start_time": "2023-01-16T10:29:58.564966",
     "status": "completed"
    },
    "tags": []
   },
   "source": [
    "**Predicted Value**"
   ]
  }
 ],
 "metadata": {
  "kernelspec": {
   "display_name": "Python 3",
   "language": "python",
   "name": "python3"
  },
  "language_info": {
   "codemirror_mode": {
    "name": "ipython",
    "version": 3
   },
   "file_extension": ".py",
   "mimetype": "text/x-python",
   "name": "python",
   "nbconvert_exporter": "python",
   "pygments_lexer": "ipython3",
   "version": "3.7.12"
  },
  "papermill": {
   "default_parameters": {},
   "duration": 17.676846,
   "end_time": "2023-01-16T10:29:59.611106",
   "environment_variables": {},
   "exception": null,
   "input_path": "__notebook__.ipynb",
   "output_path": "__notebook__.ipynb",
   "parameters": {},
   "start_time": "2023-01-16T10:29:41.934260",
   "version": "2.3.4"
  }
 },
 "nbformat": 4,
 "nbformat_minor": 5
}
